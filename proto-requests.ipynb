{
 "cells": [
  {
   "cell_type": "code",
   "execution_count": 1,
   "metadata": {},
   "outputs": [],
   "source": [
    "#next game\n",
    "\n",
    "import requests"
   ]
  },
  {
   "cell_type": "code",
   "execution_count": 3,
   "metadata": {},
   "outputs": [],
   "source": [
    "baseUrl = 'https://api.the-odds-api.com/'\n",
    "version = 'v4'\n",
    "sport = 'basketball_nba'\n",
    "apikey = '344f688e5e81f65ba37d33a8b55540a0'\n",
    "regions = 'us'\n",
    "markets = 'spreads'\n"
   ]
  },
  {
   "cell_type": "code",
   "execution_count": 4,
   "metadata": {},
   "outputs": [],
   "source": [
    "get_nba_spreads_request = baseUrl\n",
    "get_nba_spreads_request += '/' + version\n",
    "get_nba_spreads_request += '/' + 'sports'\n",
    "get_nba_spreads_request += '/' + '/odds/'\n",
    "get_nba_spreads_request += '?regions=us&markets=spreads'\n",
    "\n",
    "whole_url = 'https://api.the-odds-api.com/v4/sports/basketball_nba/odds/?apiKey=344f688e5e81f65ba37d33a8b55540a0&regions=us&markets=spreads'\n",
    "\n",
    "res = requests.get(whole_url)\n",
    "\n",
    "#res = requests.get(get_nba_spreads_request)"
   ]
  },
  {
   "cell_type": "code",
   "execution_count": null,
   "metadata": {},
   "outputs": [],
   "source": [
    "def get_odds_data_from_api():\n",
    "    whole_url = 'https://api.the-odds-api.com/v4/sports/basketball_nba/odds/?apiKey=344f688e5e81f65ba37d33a8b55540a0&regions=us&markets=spreads'\n",
    "\n",
    "    res = requests.get(whole_url)\n",
    "    return res"
   ]
  },
  {
   "cell_type": "code",
   "execution_count": null,
   "metadata": {},
   "outputs": [],
   "source": [
    "params = {}\n",
    "\n",
    "requests.get(baseUrl, params=params)"
   ]
  },
  {
   "cell_type": "code",
   "execution_count": 5,
   "metadata": {},
   "outputs": [],
   "source": [
    "res_json = res.json()"
   ]
  },
  {
   "cell_type": "code",
   "execution_count": 36,
   "metadata": {},
   "outputs": [
    {
     "data": {
      "text/plain": [
       "[{'key': 'barstool',\n",
       "  'title': 'Barstool Sportsbook',\n",
       "  'last_update': '2023-02-23T04:44:15Z',\n",
       "  'markets': [{'key': 'spreads',\n",
       "    'last_update': '2023-02-23T04:44:15Z',\n",
       "    'outcomes': [{'name': 'Boston Celtics', 'price': 1.89, 'point': -8.0},\n",
       "     {'name': 'Indiana Pacers', 'price': 1.92, 'point': 8.0}]}]}]"
      ]
     },
     "execution_count": 36,
     "metadata": {},
     "output_type": "execute_result"
    }
   ],
   "source": [
    "target_team = \"Indiana Pacers\"\n",
    "game = [x for x in res_json if x['home_team']==target_team or x['away_team']==target_team]\n",
    "fanDuel_info = [x for x in game[0]['bookmakers'] if x['key']=='fanduel']\n",
    "barstool_info = [x for x in game[0]['bookmakers'] if x['key']=='barstool']\n",
    "barstool_info"
   ]
  },
  {
   "cell_type": "code",
   "execution_count": 38,
   "metadata": {},
   "outputs": [
    {
     "data": {
      "text/plain": [
       "[{'key': 'spreads',\n",
       "  'last_update': '2023-02-23T04:44:15Z',\n",
       "  'outcomes': [{'name': 'Boston Celtics', 'price': 1.89, 'point': -8.0},\n",
       "   {'name': 'Indiana Pacers', 'price': 1.92, 'point': 8.0}]}]"
      ]
     },
     "execution_count": 38,
     "metadata": {},
     "output_type": "execute_result"
    }
   ],
   "source": [
    "barstool_info[0]['markets']"
   ]
  },
  {
   "cell_type": "code",
   "execution_count": 35,
   "metadata": {},
   "outputs": [
    {
     "data": {
      "text/plain": [
       "[{'key': 'fanduel',\n",
       "  'title': 'FanDuel',\n",
       "  'last_update': '2023-02-23T04:39:44Z',\n",
       "  'markets': [{'key': 'spreads',\n",
       "    'last_update': '2023-02-23T04:39:44Z',\n",
       "    'outcomes': [{'name': 'Boston Celtics', 'price': 1.94, 'point': -8.5},\n",
       "     {'name': 'Indiana Pacers', 'price': 1.88, 'point': 8.5}]}]}]"
      ]
     },
     "execution_count": 35,
     "metadata": {},
     "output_type": "execute_result"
    }
   ],
   "source": [
    "fanDuel_info = [x for x in game[0]['bookmakers'] if x['key']=='fanduel']\n",
    "fanDuel_info"
   ]
  },
  {
   "cell_type": "code",
   "execution_count": 42,
   "metadata": {},
   "outputs": [
    {
     "data": {
      "text/plain": [
       "[{'name': 'Boston Celtics', 'price': 1.94, 'point': -8.5},\n",
       " {'name': 'Indiana Pacers', 'price': 1.88, 'point': 8.5}]"
      ]
     },
     "execution_count": 42,
     "metadata": {},
     "output_type": "execute_result"
    }
   ],
   "source": [
    "fanDuel_info[0]['markets'][0]['outcomes']"
   ]
  },
  {
   "cell_type": "code",
   "execution_count": 43,
   "metadata": {},
   "outputs": [
    {
     "data": {
      "text/plain": [
       "[{'name': 'Boston Celtics', 'price': 1.89, 'point': -8.0},\n",
       " {'name': 'Indiana Pacers', 'price': 1.92, 'point': 8.0}]"
      ]
     },
     "execution_count": 43,
     "metadata": {},
     "output_type": "execute_result"
    }
   ],
   "source": [
    "barstool_info[0]['markets'][0]['outcomes']"
   ]
  },
  {
   "cell_type": "code",
   "execution_count": null,
   "metadata": {},
   "outputs": [],
   "source": [
    "def get_books_spreads(long_team_name):\n",
    "    "
   ]
  }
 ],
 "metadata": {
  "kernelspec": {
   "display_name": "nightcourt",
   "language": "python",
   "name": "python3"
  },
  "language_info": {
   "codemirror_mode": {
    "name": "ipython",
    "version": 3
   },
   "file_extension": ".py",
   "mimetype": "text/x-python",
   "name": "python",
   "nbconvert_exporter": "python",
   "pygments_lexer": "ipython3",
   "version": "3.9.16"
  },
  "orig_nbformat": 4,
  "vscode": {
   "interpreter": {
    "hash": "27b1f5b9b89c86a8548055101bcd8fe192f97156ad73f23579a5e318dbea6b89"
   }
  }
 },
 "nbformat": 4,
 "nbformat_minor": 2
}
